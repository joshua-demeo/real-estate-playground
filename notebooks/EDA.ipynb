{
 "cells": [
  {
   "cell_type": "markdown",
   "metadata": {},
   "source": [
    "# Realtor.com EDA\n",
    "\n",
    "Data can be found here: https://www.realtor.com/research/data/"
   ]
  },
  {
   "cell_type": "code",
   "execution_count": null,
   "metadata": {},
   "outputs": [],
   "source": [
    "import pandas as pd\n",
    "import hvplot.pandas"
   ]
  },
  {
   "cell_type": "code",
   "execution_count": null,
   "metadata": {},
   "outputs": [],
   "source": [
    "data = pd.read_csv('../data/RDC_Inventory_Core_Metrics_Metro_History.csv')\n",
    "data['month_date_yyyymm'] = data['month_date_yyyymm'].astype(str)\n",
    "\n",
    "# Last line of file has contact info\n",
    "data = data.iloc[:-1, :]"
   ]
  },
  {
   "cell_type": "code",
   "execution_count": null,
   "metadata": {},
   "outputs": [],
   "source": [
    "data.head(2)"
   ]
  },
  {
   "cell_type": "code",
   "execution_count": null,
   "metadata": {},
   "outputs": [],
   "source": [
    "data.dtypes"
   ]
  },
  {
   "cell_type": "code",
   "execution_count": null,
   "metadata": {},
   "outputs": [],
   "source": [
    "# INPUTS\n",
    "feature = 'active_listing_count'\n",
    "grouping = 'cbsa_title'\n",
    "data['national_avg'] = data.groupby(['month_date_yyyymm'])[feature].transform('mean')\n",
    "\n",
    "condition = (\n",
    "    (data['month_date_yyyymm'] > '202001')\n",
    "    & (data['HouseholdRank'] < 10)\n",
    ") \n",
    "data[condition].sort_values('month_date_yyyymm').hvplot.bar(\n",
    "    x='month_date_yyyymm',\n",
    "    y=feature,\n",
    "    by=grouping,\n",
    "    subplots=True,\n",
    "    value_label='Amount',\n",
    "    rot=45,\n",
    ")"
   ]
  },
  {
   "cell_type": "code",
   "execution_count": null,
   "metadata": {},
   "outputs": [],
   "source": [
    "data['cbsa_title'].nunique()"
   ]
  },
  {
   "cell_type": "code",
   "execution_count": null,
   "metadata": {},
   "outputs": [],
   "source": []
  }
 ],
 "metadata": {
  "kernelspec": {
   "display_name": "ml",
   "language": "python",
   "name": "ml"
  },
  "language_info": {
   "codemirror_mode": {
    "name": "ipython",
    "version": 3
   },
   "file_extension": ".py",
   "mimetype": "text/x-python",
   "name": "python",
   "nbconvert_exporter": "python",
   "pygments_lexer": "ipython3",
   "version": "3.8.12"
  }
 },
 "nbformat": 4,
 "nbformat_minor": 4
}
